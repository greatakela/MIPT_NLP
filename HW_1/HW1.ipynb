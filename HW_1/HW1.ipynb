{
 "metadata": {
  "kernelspec": {
   "language": "python",
   "display_name": "Python 3",
   "name": "python3"
  },
  "language_info": {
   "name": "python",
   "version": "3.7.12",
   "mimetype": "text/x-python",
   "codemirror_mode": {
    "name": "ipython",
    "version": 3
   },
   "pygments_lexer": "ipython3",
   "nbconvert_exporter": "python",
   "file_extension": ".py"
  }
 },
 "nbformat_minor": 4,
 "nbformat": 4,
 "cells": [
  {
   "cell_type": "markdown",
   "source": [
    "# Импорт библиотек"
   ],
   "metadata": {}
  },
  {
   "cell_type": "code",
   "source": [
    "import numpy as np       # линейная алгебра\n",
    "import pandas as pd      # работа с табличными данными\n",
    "import string            # работа со строковыми значениями\n",
    "import re                # работа с регулярными выражениями\n",
    "\n",
    "import nltk                               # работа с естественным языком           \n",
    "from nltk.corpus import stopwords         # список стоп-слов\n",
    "from nltk.stem.snowball import SnowballStemmer # стемизазия\n",
    "\n",
    "from sklearn.feature_extraction.text import TfidfVectorizer          # Преобразование текстов в TFIDF-матрицу\n",
    "from sklearn.metrics.pairwise import cosine_similarity               # Метрика измерения косинусного расстояния между векторами\n",
    "\n",
    "import gensim.downloader                # работа с word2vec \n"
   ],
   "metadata": {
    "_uuid": "8f2839f25d086af736a60e9eeb907d3b93b6e0e5",
    "_cell_guid": "b1076dfc-b9ad-4769-8c92-a6c4dae69d19",
    "execution": {
     "iopub.status.busy": "2023-03-11T12:33:34.421065Z",
     "iopub.execute_input": "2023-03-11T12:33:34.421546Z",
     "iopub.status.idle": "2023-03-11T12:33:34.864944Z",
     "shell.execute_reply.started": "2023-03-11T12:33:34.421511Z",
     "shell.execute_reply": "2023-03-11T12:33:34.863661Z"
    },
    "trusted": true,
    "ExecuteTime": {
     "end_time": "2023-09-19T02:01:50.832531800Z",
     "start_time": "2023-09-19T02:01:48.270531800Z"
    }
   },
   "execution_count": 1,
   "outputs": []
  },
  {
   "cell_type": "markdown",
   "source": [
    "# Функции очистки текста"
   ],
   "metadata": {}
  },
  {
   "cell_type": "code",
   "source": [
    "# Функция удаления символов из текста\n",
    "def remove_chars_from_text(text_, chars_):\n",
    "    return \"\".join([ch for ch in text_ if ch not in chars_])\n",
    "\n",
    "\n",
    "# Функция удаления стоп-слов\n",
    "def clear_stop_words(text_, stopwords_):\n",
    "    return ' '.join([word for word in str(text_).split() if word not in stopwords_])\n",
    "\n",
    "\n",
    "# Функция удаления HTML-ссылок\n",
    "def remove_urls(text_):\n",
    "    url_remove = re.compile(r'https?://\\S+|www\\.\\S+')\n",
    "    return url_remove.sub(r' ', text_)\n",
    "\n",
    "\n",
    "# Функция удаления URL-ссылок\n",
    "def remove_html(text_):\n",
    "    html=re.compile(r'<.*?>')\n",
    "    return html.sub(r' ',text_)\n",
    "\n",
    "# Stemming\n",
    "def stem_on(text_):\n",
    "    stemer = SnowballStemmer('english')\n",
    "    tokens = nltk.word_tokenize(text_)\n",
    "    stemming = [stemer.stem(w) for w in tokens]\n",
    "    return \" \".join(stemming)\n",
    "\n",
    "\n",
    "# Функция предобработки текста\n",
    "def text_preproc(\n",
    "    series_             # На вход получает данные в формате pandas.Series\n",
    "\n",
    "):          \n",
    "    \n",
    "    # Удаляем URL-ссылки\n",
    "    series_ = series_.apply(lambda x:remove_urls(x))\n",
    "\n",
    "    # Удаляем HTML-ссылки\n",
    "    series_ = series_.apply(lambda x: remove_html(x))\n",
    "\n",
    "    # Переводим символы к нижнему регистру\n",
    "    series_ = series_.apply(lambda x: x.lower())\n",
    "\n",
    "    # Удаляем пунктуацию и спец-символы\n",
    "    series_ = series_.apply(lambda x: remove_chars_from_text(x, string.punctuation))\n",
    "\n",
    "    # Удаляем цифры\n",
    "    series_ = series_.apply(lambda x: remove_chars_from_text(x, string.digits))\n",
    "\n",
    "    # Убираем лишние пробелы\n",
    "    series_ = series_.apply(lambda x: ' '.join(x.split()))\n",
    "    \n",
    "    # Убираем стоп-слова\n",
    "    series_ = series_.apply(lambda x: clear_stop_words(x, stopwords.words('english')))\n",
    "    \n",
    "    # Stemming\n",
    "    series_ = series_.apply(lambda x: stem_on(x))\n",
    "    \n",
    "    return series_\n"
   ],
   "metadata": {
    "execution": {
     "iopub.status.busy": "2023-03-11T10:58:06.871570Z",
     "iopub.execute_input": "2023-03-11T10:58:06.872093Z",
     "iopub.status.idle": "2023-03-11T10:58:06.885307Z",
     "shell.execute_reply.started": "2023-03-11T10:58:06.872051Z",
     "shell.execute_reply": "2023-03-11T10:58:06.883939Z"
    },
    "trusted": true,
    "ExecuteTime": {
     "end_time": "2023-09-19T02:01:50.848530700Z",
     "start_time": "2023-09-19T02:01:50.836533500Z"
    }
   },
   "execution_count": 2,
   "outputs": []
  },
  {
   "cell_type": "markdown",
   "source": [
    "# Загрузка и обзор данных"
   ],
   "metadata": {}
  },
  {
   "cell_type": "code",
   "source": [
    "# Загрузим данные\n",
    "df = pd.read_csv('sample-data.csv')\n"
   ],
   "metadata": {
    "execution": {
     "iopub.status.busy": "2023-03-11T10:58:11.037571Z",
     "iopub.execute_input": "2023-03-11T10:58:11.038261Z",
     "iopub.status.idle": "2023-03-11T10:58:11.064738Z",
     "shell.execute_reply.started": "2023-03-11T10:58:11.038220Z",
     "shell.execute_reply": "2023-03-11T10:58:11.063716Z"
    },
    "trusted": true,
    "ExecuteTime": {
     "end_time": "2023-09-19T02:01:50.879533500Z",
     "start_time": "2023-09-19T02:01:50.849531800Z"
    }
   },
   "execution_count": 3,
   "outputs": []
  },
  {
   "cell_type": "code",
   "source": [
    "# Пример данных\n",
    "df.head(20)"
   ],
   "metadata": {
    "execution": {
     "iopub.status.busy": "2023-03-11T10:58:11.471707Z",
     "iopub.execute_input": "2023-03-11T10:58:11.472418Z",
     "iopub.status.idle": "2023-03-11T10:58:11.483432Z",
     "shell.execute_reply.started": "2023-03-11T10:58:11.472377Z",
     "shell.execute_reply": "2023-03-11T10:58:11.482480Z"
    },
    "trusted": true,
    "ExecuteTime": {
     "end_time": "2023-09-19T02:01:50.895973100Z",
     "start_time": "2023-09-19T02:01:50.880530800Z"
    }
   },
   "execution_count": 4,
   "outputs": [
    {
     "data": {
      "text/plain": "    id                                        description\n0    1  Active classic boxers - There's a reason why o...\n1    2  Active sport boxer briefs - Skinning up Glory ...\n2    3  Active sport briefs - These superbreathable no...\n3    4  Alpine guide pants - Skin in, climb ice, switc...\n4    5  Alpine wind jkt - On high ridges, steep ice an...\n5    6  Ascensionist jkt - Our most technical soft she...\n6    7  Atom - A multitasker's cloud nine, the Atom pl...\n7    8  Print banded betina btm - Our fullest coverage...\n8    9  Baby micro d-luxe cardigan - Micro D-Luxe is a...\n9   10  Baby sun bucket hat - This hat goes on when th...\n10  11  Baby sunshade top - Soft, stretchy polyester f...\n11  12  Baggies shorts - Even Baggies, our most popula...\n12  13  Beach bucket - Whenever you're at the junction...\n13  14  Better sweater jkt - June nights camped out in...\n14  15  Borderless shorts-11 in. - Go forward where ot...\n15  16  Borderless shorts-7 in. - One of summertime's ...\n16  17  Bucket hat - Besides its shade-casting prowess...\n17  18  Cap 1 bottoms - Spring skiing is as transient ...\n18  19  Cap 1 boxer briefs - On bivy or belay, the for...\n19  20  Cap 1 graphic t-shirt - This tee is made from ...",
      "text/html": "<div>\n<style scoped>\n    .dataframe tbody tr th:only-of-type {\n        vertical-align: middle;\n    }\n\n    .dataframe tbody tr th {\n        vertical-align: top;\n    }\n\n    .dataframe thead th {\n        text-align: right;\n    }\n</style>\n<table border=\"1\" class=\"dataframe\">\n  <thead>\n    <tr style=\"text-align: right;\">\n      <th></th>\n      <th>id</th>\n      <th>description</th>\n    </tr>\n  </thead>\n  <tbody>\n    <tr>\n      <th>0</th>\n      <td>1</td>\n      <td>Active classic boxers - There's a reason why o...</td>\n    </tr>\n    <tr>\n      <th>1</th>\n      <td>2</td>\n      <td>Active sport boxer briefs - Skinning up Glory ...</td>\n    </tr>\n    <tr>\n      <th>2</th>\n      <td>3</td>\n      <td>Active sport briefs - These superbreathable no...</td>\n    </tr>\n    <tr>\n      <th>3</th>\n      <td>4</td>\n      <td>Alpine guide pants - Skin in, climb ice, switc...</td>\n    </tr>\n    <tr>\n      <th>4</th>\n      <td>5</td>\n      <td>Alpine wind jkt - On high ridges, steep ice an...</td>\n    </tr>\n    <tr>\n      <th>5</th>\n      <td>6</td>\n      <td>Ascensionist jkt - Our most technical soft she...</td>\n    </tr>\n    <tr>\n      <th>6</th>\n      <td>7</td>\n      <td>Atom - A multitasker's cloud nine, the Atom pl...</td>\n    </tr>\n    <tr>\n      <th>7</th>\n      <td>8</td>\n      <td>Print banded betina btm - Our fullest coverage...</td>\n    </tr>\n    <tr>\n      <th>8</th>\n      <td>9</td>\n      <td>Baby micro d-luxe cardigan - Micro D-Luxe is a...</td>\n    </tr>\n    <tr>\n      <th>9</th>\n      <td>10</td>\n      <td>Baby sun bucket hat - This hat goes on when th...</td>\n    </tr>\n    <tr>\n      <th>10</th>\n      <td>11</td>\n      <td>Baby sunshade top - Soft, stretchy polyester f...</td>\n    </tr>\n    <tr>\n      <th>11</th>\n      <td>12</td>\n      <td>Baggies shorts - Even Baggies, our most popula...</td>\n    </tr>\n    <tr>\n      <th>12</th>\n      <td>13</td>\n      <td>Beach bucket - Whenever you're at the junction...</td>\n    </tr>\n    <tr>\n      <th>13</th>\n      <td>14</td>\n      <td>Better sweater jkt - June nights camped out in...</td>\n    </tr>\n    <tr>\n      <th>14</th>\n      <td>15</td>\n      <td>Borderless shorts-11 in. - Go forward where ot...</td>\n    </tr>\n    <tr>\n      <th>15</th>\n      <td>16</td>\n      <td>Borderless shorts-7 in. - One of summertime's ...</td>\n    </tr>\n    <tr>\n      <th>16</th>\n      <td>17</td>\n      <td>Bucket hat - Besides its shade-casting prowess...</td>\n    </tr>\n    <tr>\n      <th>17</th>\n      <td>18</td>\n      <td>Cap 1 bottoms - Spring skiing is as transient ...</td>\n    </tr>\n    <tr>\n      <th>18</th>\n      <td>19</td>\n      <td>Cap 1 boxer briefs - On bivy or belay, the for...</td>\n    </tr>\n    <tr>\n      <th>19</th>\n      <td>20</td>\n      <td>Cap 1 graphic t-shirt - This tee is made from ...</td>\n    </tr>\n  </tbody>\n</table>\n</div>"
     },
     "execution_count": 4,
     "metadata": {},
     "output_type": "execute_result"
    }
   ]
  },
  {
   "cell_type": "markdown",
   "source": [
    "## Перед преобразованием в векторное представление тексты необходимо почистить."
   ],
   "metadata": {}
  },
  {
   "cell_type": "code",
   "source": [
    "# Проведем предобработку текста поля 'description'\n",
    "df['description'] = text_preproc(df['description'])\n",
    "\n",
    "# Проверим результат предобратобки\n",
    "df['description'][0]"
   ],
   "metadata": {
    "execution": {
     "iopub.status.busy": "2023-03-11T10:58:49.046603Z",
     "iopub.execute_input": "2023-03-11T10:58:49.047362Z",
     "iopub.status.idle": "2023-03-11T10:58:49.358171Z",
     "shell.execute_reply.started": "2023-03-11T10:58:49.047311Z",
     "shell.execute_reply": "2023-03-11T10:58:49.356823Z"
    },
    "trusted": true,
    "ExecuteTime": {
     "end_time": "2023-09-19T02:01:51.717985100Z",
     "start_time": "2023-09-19T02:01:50.896983400Z"
    }
   },
   "execution_count": 5,
   "outputs": [
    {
     "data": {
      "text/plain": "'activ classic boxer there reason boxer cult favorit keep cool especi sticki situat quickdri lightweight underwear take minim space travel pack expos brush waistband offer nexttoskin soft fivepanel construct tradit boxer back classic fit function fli made oz recycl polyest moisturewick perform inseam size recycl common thread recycl program detail silki capilen fabric ultralight breathabl quicktodri expos brush elast waistband comfort panel construct tradit boxer back inseam size fabric oz allrecycl polyest gladiodor natur odor control garment recycl common thread recycl program weight g oz made mexico'"
     },
     "execution_count": 5,
     "metadata": {},
     "output_type": "execute_result"
    }
   ]
  },
  {
   "cell_type": "markdown",
   "source": [
    "# Векторизация текстов TF-IDF"
   ],
   "metadata": {}
  },
  {
   "cell_type": "code",
   "source": [
    "# Инициализируем токенайзер для преобразования каждого текста в вектор. Максимальный размер словаря 25000 слов\n",
    "tfidf_vectorizer = TfidfVectorizer(binary=True, max_features=25000)\n",
    "\n",
    "# Преобразуем очищенные тексты в матрицы TFIDF\n",
    "tfidf_embedings = tfidf_vectorizer.fit_transform(df['description'])\n",
    "\n",
    "# Проверяем размерность полученного массива\n",
    "tfidf_embedings.shape"
   ],
   "metadata": {
    "execution": {
     "iopub.status.busy": "2023-03-11T11:04:29.807961Z",
     "iopub.execute_input": "2023-03-11T11:04:29.808440Z",
     "iopub.status.idle": "2023-03-11T11:04:29.888506Z",
     "shell.execute_reply.started": "2023-03-11T11:04:29.808404Z",
     "shell.execute_reply": "2023-03-11T11:04:29.887324Z"
    },
    "trusted": true,
    "ExecuteTime": {
     "end_time": "2023-09-19T02:01:51.757984400Z",
     "start_time": "2023-09-19T02:01:51.718984Z"
    }
   },
   "execution_count": 6,
   "outputs": [
    {
     "data": {
      "text/plain": "(500, 3916)"
     },
     "execution_count": 6,
     "metadata": {},
     "output_type": "execute_result"
    }
   ]
  },
  {
   "cell_type": "markdown",
   "source": [
    "# Считаем метрику косинусного расстояния с помощью функции cosine_similarity() библиотеки scikit-learn"
   ],
   "metadata": {
    "collapsed": false
   }
  },
  {
   "cell_type": "code",
   "execution_count": 7,
   "outputs": [],
   "source": [
    "# Вычисляем попарно косинусное расстояние между векторами в матрице, выделяем нижнюю треугольную матрицу, чтобы пара векторов встречалась 1 раз.\n",
    "cos_matrix = np.tril(cosine_similarity(tfidf_embedings))"
   ],
   "metadata": {
    "collapsed": false,
    "ExecuteTime": {
     "end_time": "2023-09-19T02:01:51.816984100Z",
     "start_time": "2023-09-19T02:01:51.751988500Z"
    }
   }
  },
  {
   "cell_type": "code",
   "execution_count": 8,
   "outputs": [
    {
     "data": {
      "text/plain": "array([[1.        , 0.        , 0.        , ..., 0.        , 0.        ,\n        0.        ],\n       [0.1406852 , 1.        , 0.        , ..., 0.        , 0.        ,\n        0.        ],\n       [0.10830019, 0.47592662, 1.        , ..., 0.        , 0.        ,\n        0.        ],\n       ...,\n       [0.03573089, 0.02240297, 0.0292735 , ..., 1.        , 0.        ,\n        0.        ],\n       [0.07620833, 0.11161524, 0.04335247, ..., 0.03850091, 1.        ,\n        0.        ],\n       [0.0701705 , 0.0410301 , 0.03078927, ..., 0.03769678, 0.33301946,\n        1.        ]])"
     },
     "execution_count": 8,
     "metadata": {},
     "output_type": "execute_result"
    }
   ],
   "source": [
    "cos_matrix"
   ],
   "metadata": {
    "collapsed": false,
    "ExecuteTime": {
     "end_time": "2023-09-19T02:01:51.817983600Z",
     "start_time": "2023-09-19T02:01:51.781983700Z"
    }
   }
  },
  {
   "cell_type": "code",
   "execution_count": 9,
   "outputs": [
    {
     "name": "stdout",
     "output_type": "stream",
     "text": [
      "Количество пар похожих товаров - 84\n"
     ]
    },
    {
     "data": {
      "text/plain": "   index_pairs                                  description_pairs  \\\n0     (27, 26)  (compound cargo pant reg ultim doeveryth pant ...   \n1     (62, 57)  (fli fish tshirt softwear ringspun organ cotto...   \n2     (63, 57)  (gpiw classic tshirt softwear ringspun organ c...   \n3     (63, 62)  (gpiw classic tshirt softwear ringspun organ c...   \n4     (64, 57)  (live simpli guitar tshirt softwear ringspun o...   \n..         ...                                                ...   \n79   (480, 36)  (duck pant reg essenti wear split log drive na...   \n80   (481, 36)  (duck pant short essenti wear split log drive ...   \n81  (481, 480)  (duck pant short essenti wear split log drive ...   \n82  (485, 455)  (half mass size ride bike fine tune hold day w...   \n83  (491, 285)  (freedom roam tshirt global warm habitat destr...   \n\n    cosine_similarity_score  \n0                  0.990242  \n1                  0.929723  \n2                  0.882237  \n3                  0.862975  \n4                  0.865243  \n..                      ...  \n79                 0.985911  \n80                 1.000000  \n81                 0.985911  \n82                 0.811473  \n83                 1.000000  \n\n[84 rows x 3 columns]",
      "text/html": "<div>\n<style scoped>\n    .dataframe tbody tr th:only-of-type {\n        vertical-align: middle;\n    }\n\n    .dataframe tbody tr th {\n        vertical-align: top;\n    }\n\n    .dataframe thead th {\n        text-align: right;\n    }\n</style>\n<table border=\"1\" class=\"dataframe\">\n  <thead>\n    <tr style=\"text-align: right;\">\n      <th></th>\n      <th>index_pairs</th>\n      <th>description_pairs</th>\n      <th>cosine_similarity_score</th>\n    </tr>\n  </thead>\n  <tbody>\n    <tr>\n      <th>0</th>\n      <td>(27, 26)</td>\n      <td>(compound cargo pant reg ultim doeveryth pant ...</td>\n      <td>0.990242</td>\n    </tr>\n    <tr>\n      <th>1</th>\n      <td>(62, 57)</td>\n      <td>(fli fish tshirt softwear ringspun organ cotto...</td>\n      <td>0.929723</td>\n    </tr>\n    <tr>\n      <th>2</th>\n      <td>(63, 57)</td>\n      <td>(gpiw classic tshirt softwear ringspun organ c...</td>\n      <td>0.882237</td>\n    </tr>\n    <tr>\n      <th>3</th>\n      <td>(63, 62)</td>\n      <td>(gpiw classic tshirt softwear ringspun organ c...</td>\n      <td>0.862975</td>\n    </tr>\n    <tr>\n      <th>4</th>\n      <td>(64, 57)</td>\n      <td>(live simpli guitar tshirt softwear ringspun o...</td>\n      <td>0.865243</td>\n    </tr>\n    <tr>\n      <th>...</th>\n      <td>...</td>\n      <td>...</td>\n      <td>...</td>\n    </tr>\n    <tr>\n      <th>79</th>\n      <td>(480, 36)</td>\n      <td>(duck pant reg essenti wear split log drive na...</td>\n      <td>0.985911</td>\n    </tr>\n    <tr>\n      <th>80</th>\n      <td>(481, 36)</td>\n      <td>(duck pant short essenti wear split log drive ...</td>\n      <td>1.000000</td>\n    </tr>\n    <tr>\n      <th>81</th>\n      <td>(481, 480)</td>\n      <td>(duck pant short essenti wear split log drive ...</td>\n      <td>0.985911</td>\n    </tr>\n    <tr>\n      <th>82</th>\n      <td>(485, 455)</td>\n      <td>(half mass size ride bike fine tune hold day w...</td>\n      <td>0.811473</td>\n    </tr>\n    <tr>\n      <th>83</th>\n      <td>(491, 285)</td>\n      <td>(freedom roam tshirt global warm habitat destr...</td>\n      <td>1.000000</td>\n    </tr>\n  </tbody>\n</table>\n<p>84 rows × 3 columns</p>\n</div>"
     },
     "execution_count": 9,
     "metadata": {},
     "output_type": "execute_result"
    }
   ],
   "source": [
    "pair_indexes_tf_idf = np.transpose(np.nonzero(cos_matrix > 0.8))\n",
    "description_pairs_tf_idf = pd.DataFrame()\n",
    "\n",
    "i = 0\n",
    "\n",
    "# Перебираем пары индексов\n",
    "for x in pair_indexes_tf_idf:\n",
    "\n",
    "    # Если индексы не равны друг другу, что означает, что сравнивались описания разных товаров\n",
    "    if x[0] != x[1]:\n",
    "\n",
    "        # Выводим пары описаний товаров\n",
    "        pairs = pd.DataFrame({'index_pairs':[(x[0], x[1])], 'description_pairs':[(df['description'][x[0]], df['description'][x[1]])], 'cosine_similarity_score':[cos_matrix[x[0], x[1]]]})\n",
    "        description_pairs_tf_idf = pd.concat([description_pairs_tf_idf, pairs], ignore_index=True)\n",
    "        i += 1\n",
    "print(f'Количество пар похожих товаров - {i}')\n",
    "description_pairs_tf_idf"
   ],
   "metadata": {
    "collapsed": false,
    "ExecuteTime": {
     "end_time": "2023-09-19T02:01:51.877012900Z",
     "start_time": "2023-09-19T02:01:51.801983900Z"
    }
   }
  },
  {
   "cell_type": "markdown",
   "source": [
    "# Считаем метрику косинусного расстояния вручную путем матричного умножения"
   ],
   "metadata": {
    "collapsed": false
   }
  },
  {
   "cell_type": "code",
   "execution_count": 10,
   "outputs": [],
   "source": [
    "tfidf_m = tfidf_embedings.toarray()\n",
    "def cosine_similarity_m(X):\n",
    "    norm_X = np.linalg.norm(X)\n",
    "    norm_X_T = np.linalg.norm(X.T)\n",
    "    similarity = np.dot(X, X.T)\n",
    "    return similarity"
   ],
   "metadata": {
    "collapsed": false,
    "ExecuteTime": {
     "end_time": "2023-09-19T02:01:51.877012900Z",
     "start_time": "2023-09-19T02:01:51.843984900Z"
    }
   }
  },
  {
   "cell_type": "code",
   "execution_count": 11,
   "outputs": [],
   "source": [
    "cos_matrix_m = np.tril(cosine_similarity_m(tfidf_m))"
   ],
   "metadata": {
    "collapsed": false,
    "ExecuteTime": {
     "end_time": "2023-09-19T02:01:51.966011300Z",
     "start_time": "2023-09-19T02:01:51.860013100Z"
    }
   }
  },
  {
   "cell_type": "code",
   "execution_count": 12,
   "outputs": [
    {
     "data": {
      "text/plain": "array([[1.        , 0.        , 0.        , ..., 0.        , 0.        ,\n        0.        ],\n       [0.1406852 , 1.        , 0.        , ..., 0.        , 0.        ,\n        0.        ],\n       [0.10830019, 0.47592662, 1.        , ..., 0.        , 0.        ,\n        0.        ],\n       ...,\n       [0.03573089, 0.02240297, 0.0292735 , ..., 1.        , 0.        ,\n        0.        ],\n       [0.07620833, 0.11161524, 0.04335247, ..., 0.03850091, 1.        ,\n        0.        ],\n       [0.0701705 , 0.0410301 , 0.03078927, ..., 0.03769678, 0.33301946,\n        1.        ]])"
     },
     "execution_count": 12,
     "metadata": {},
     "output_type": "execute_result"
    }
   ],
   "source": [
    "cos_matrix_m"
   ],
   "metadata": {
    "collapsed": false,
    "ExecuteTime": {
     "end_time": "2023-09-19T02:01:51.966011300Z",
     "start_time": "2023-09-19T02:01:51.906012Z"
    }
   }
  },
  {
   "cell_type": "code",
   "execution_count": 13,
   "outputs": [
    {
     "name": "stdout",
     "output_type": "stream",
     "text": [
      "Количество пар похожих товаров - 84\n"
     ]
    },
    {
     "data": {
      "text/plain": "   index_pairs                                  description_pairs  \\\n0     (27, 26)  (compound cargo pant reg ultim doeveryth pant ...   \n1     (62, 57)  (fli fish tshirt softwear ringspun organ cotto...   \n2     (63, 57)  (gpiw classic tshirt softwear ringspun organ c...   \n3     (63, 62)  (gpiw classic tshirt softwear ringspun organ c...   \n4     (64, 57)  (live simpli guitar tshirt softwear ringspun o...   \n..         ...                                                ...   \n79   (480, 36)  (duck pant reg essenti wear split log drive na...   \n80   (481, 36)  (duck pant short essenti wear split log drive ...   \n81  (481, 480)  (duck pant short essenti wear split log drive ...   \n82  (485, 455)  (half mass size ride bike fine tune hold day w...   \n83  (491, 285)  (freedom roam tshirt global warm habitat destr...   \n\n    cosine_similarity_score  \n0                  0.990242  \n1                  0.929723  \n2                  0.882237  \n3                  0.862975  \n4                  0.865243  \n..                      ...  \n79                 0.985911  \n80                 1.000000  \n81                 0.985911  \n82                 0.811473  \n83                 1.000000  \n\n[84 rows x 3 columns]",
      "text/html": "<div>\n<style scoped>\n    .dataframe tbody tr th:only-of-type {\n        vertical-align: middle;\n    }\n\n    .dataframe tbody tr th {\n        vertical-align: top;\n    }\n\n    .dataframe thead th {\n        text-align: right;\n    }\n</style>\n<table border=\"1\" class=\"dataframe\">\n  <thead>\n    <tr style=\"text-align: right;\">\n      <th></th>\n      <th>index_pairs</th>\n      <th>description_pairs</th>\n      <th>cosine_similarity_score</th>\n    </tr>\n  </thead>\n  <tbody>\n    <tr>\n      <th>0</th>\n      <td>(27, 26)</td>\n      <td>(compound cargo pant reg ultim doeveryth pant ...</td>\n      <td>0.990242</td>\n    </tr>\n    <tr>\n      <th>1</th>\n      <td>(62, 57)</td>\n      <td>(fli fish tshirt softwear ringspun organ cotto...</td>\n      <td>0.929723</td>\n    </tr>\n    <tr>\n      <th>2</th>\n      <td>(63, 57)</td>\n      <td>(gpiw classic tshirt softwear ringspun organ c...</td>\n      <td>0.882237</td>\n    </tr>\n    <tr>\n      <th>3</th>\n      <td>(63, 62)</td>\n      <td>(gpiw classic tshirt softwear ringspun organ c...</td>\n      <td>0.862975</td>\n    </tr>\n    <tr>\n      <th>4</th>\n      <td>(64, 57)</td>\n      <td>(live simpli guitar tshirt softwear ringspun o...</td>\n      <td>0.865243</td>\n    </tr>\n    <tr>\n      <th>...</th>\n      <td>...</td>\n      <td>...</td>\n      <td>...</td>\n    </tr>\n    <tr>\n      <th>79</th>\n      <td>(480, 36)</td>\n      <td>(duck pant reg essenti wear split log drive na...</td>\n      <td>0.985911</td>\n    </tr>\n    <tr>\n      <th>80</th>\n      <td>(481, 36)</td>\n      <td>(duck pant short essenti wear split log drive ...</td>\n      <td>1.000000</td>\n    </tr>\n    <tr>\n      <th>81</th>\n      <td>(481, 480)</td>\n      <td>(duck pant short essenti wear split log drive ...</td>\n      <td>0.985911</td>\n    </tr>\n    <tr>\n      <th>82</th>\n      <td>(485, 455)</td>\n      <td>(half mass size ride bike fine tune hold day w...</td>\n      <td>0.811473</td>\n    </tr>\n    <tr>\n      <th>83</th>\n      <td>(491, 285)</td>\n      <td>(freedom roam tshirt global warm habitat destr...</td>\n      <td>1.000000</td>\n    </tr>\n  </tbody>\n</table>\n<p>84 rows × 3 columns</p>\n</div>"
     },
     "execution_count": 13,
     "metadata": {},
     "output_type": "execute_result"
    }
   ],
   "source": [
    "# Находим индексы значений косинусного расстояния больше заданного\n",
    "pair_indexes_tf_idf = np.transpose(np.nonzero(cos_matrix_m > 0.8))\n",
    "description_pairs_tf_idf = pd.DataFrame()\n",
    " \n",
    "i = 0\n",
    "\n",
    "# Перебираем пары индексов\n",
    "for x in pair_indexes_tf_idf:\n",
    "       \n",
    "    # Если индексы не равны друг другу, что означает, что сравнивались описания разных товаров\n",
    "    if x[0] != x[1]:\n",
    "        \n",
    "        # Выводим пары описаний товаров\n",
    "        pairs = pd.DataFrame({'index_pairs':[(x[0], x[1])], 'description_pairs':[(df['description'][x[0]], df['description'][x[1]])], 'cosine_similarity_score':[cos_matrix[x[0], x[1]]]})\n",
    "        description_pairs_tf_idf = pd.concat([description_pairs_tf_idf, pairs], ignore_index=True)\n",
    "        i += 1\n",
    "print(f'Количество пар похожих товаров - {i}')\n",
    "description_pairs_tf_idf"
   ],
   "metadata": {
    "collapsed": false,
    "jupyter": {
     "outputs_hidden": true
    },
    "ExecuteTime": {
     "end_time": "2023-09-19T02:01:51.969012500Z",
     "start_time": "2023-09-19T02:01:51.923012200Z"
    }
   }
  },
  {
   "cell_type": "markdown",
   "source": [],
   "metadata": {
    "collapsed": false
   }
  },
  {
   "cell_type": "code",
   "execution_count": 14,
   "outputs": [],
   "source": [
    "description_pairs_tf_idf.to_csv('similar_products_tf_idf.csv', index=False)"
   ],
   "metadata": {
    "collapsed": false,
    "ExecuteTime": {
     "end_time": "2023-09-19T02:01:52.003012300Z",
     "start_time": "2023-09-19T02:01:51.971012800Z"
    }
   }
  },
  {
   "cell_type": "markdown",
   "source": [
    " # Векторизация текстов W2V"
   ],
   "metadata": {}
  },
  {
   "cell_type": "code",
   "source": [
    "# Загружаем предобученную модель\n",
    "word_vectors = gensim.downloader.load(\"word2vec-google-news-300\")"
   ],
   "metadata": {
    "execution": {
     "iopub.status.busy": "2023-03-11T12:36:39.974732Z",
     "iopub.execute_input": "2023-03-11T12:36:39.975236Z",
     "iopub.status.idle": "2023-03-11T12:41:46.270817Z",
     "shell.execute_reply.started": "2023-03-11T12:36:39.975196Z",
     "shell.execute_reply": "2023-03-11T12:41:46.269571Z"
    },
    "trusted": true,
    "ExecuteTime": {
     "end_time": "2023-09-19T02:02:17.158415600Z",
     "start_time": "2023-09-19T02:01:51.987013800Z"
    }
   },
   "execution_count": 15,
   "outputs": []
  },
  {
   "cell_type": "code",
   "source": [
    "# Создаем пустой DataFrame для эмбедингов текстов\n",
    "w2v_embeddings = pd.DataFrame()\n",
    "\n",
    "# Идем по текстам\n",
    "for doc in df['description']:\n",
    "    \n",
    "    # Создаем пустой DataFrame для хранения векторов слов текста\n",
    "    temp = pd.DataFrame()\n",
    "    \n",
    "    # Идем по словам в тексте\n",
    "    for word in doc.split(' '):\n",
    "        \n",
    "        try:\n",
    "            # Векторизуем слово с использованием предобученной модели W2V\n",
    "            word_vec = word_vectors[word]\n",
    "\n",
    "            word_vec_df = pd.DataFrame(word_vec).T\n",
    "\n",
    "            # Добавляем вектор слова в DF\n",
    "            temp = pd.concat([temp, word_vec_df], ignore_index = True)\n",
    "            \n",
    "        except:\n",
    "            pass\n",
    "        \n",
    "    # Вычисляем вектор текста усредняя массив векторов слов\n",
    "    doc_vector = temp.mean(axis=0).to_frame().T\n",
    "    \n",
    "    # Добавляем вектор текста в DF эмбедингов текстов\n",
    "    w2v_embeddings = pd.concat([w2v_embeddings, doc_vector], ignore_index = True)\n",
    "\n",
    "# Размерность DF эмбедингов текстов    \n",
    "w2v_embeddings.shape"
   ],
   "metadata": {
    "execution": {
     "iopub.status.busy": "2023-03-11T12:47:49.016205Z",
     "iopub.execute_input": "2023-03-11T12:47:49.016683Z",
     "iopub.status.idle": "2023-03-11T12:48:58.427731Z",
     "shell.execute_reply.started": "2023-03-11T12:47:49.016645Z",
     "shell.execute_reply": "2023-03-11T12:48:58.426413Z"
    },
    "trusted": true,
    "ExecuteTime": {
     "end_time": "2023-09-19T02:02:23.742418600Z",
     "start_time": "2023-09-19T02:02:17.175414600Z"
    }
   },
   "execution_count": 16,
   "outputs": [
    {
     "data": {
      "text/plain": "(500, 300)"
     },
     "execution_count": 16,
     "metadata": {},
     "output_type": "execute_result"
    }
   ]
  },
  {
   "cell_type": "code",
   "source": [
    "# Вычисляем попарно косинусное расстояние между векторами в матрице, округляем значения до 5 знака после запятой\n",
    "cos_matrix_w2v = np.tril(cosine_similarity(w2v_embeddings))\n",
    "cos_matrix_w2v"
   ],
   "metadata": {
    "execution": {
     "iopub.status.busy": "2023-03-11T13:01:16.712672Z",
     "iopub.execute_input": "2023-03-11T13:01:16.713203Z",
     "iopub.status.idle": "2023-03-11T13:01:16.732840Z",
     "shell.execute_reply.started": "2023-03-11T13:01:16.713154Z",
     "shell.execute_reply": "2023-03-11T13:01:16.730781Z"
    },
    "trusted": true,
    "ExecuteTime": {
     "end_time": "2023-09-19T02:02:23.757414100Z",
     "start_time": "2023-09-19T02:02:23.734415600Z"
    }
   },
   "execution_count": 17,
   "outputs": [
    {
     "data": {
      "text/plain": "array([[1.0000002 , 0.        , 0.        , ..., 0.        , 0.        ,\n        0.        ],\n       [0.8957728 , 1.0000002 , 0.        , ..., 0.        , 0.        ,\n        0.        ],\n       [0.8277148 , 0.92433214, 0.9999999 , ..., 0.        , 0.        ,\n        0.        ],\n       ...,\n       [0.80830157, 0.8535694 , 0.82517743, ..., 0.9999999 , 0.        ,\n        0.        ],\n       [0.834347  , 0.86512613, 0.80959666, ..., 0.85467243, 1.        ,\n        0.        ],\n       [0.84218127, 0.86168325, 0.8122253 , ..., 0.80746603, 0.94414234,\n        0.9999995 ]], dtype=float32)"
     },
     "execution_count": 17,
     "metadata": {},
     "output_type": "execute_result"
    }
   ]
  },
  {
   "cell_type": "code",
   "source": [
    "# Находим пары векторов, косинусное расстояние между которыми больше 0.985\n",
    "pair_indexes_w2v = np.transpose(np.nonzero(cos_matrix_w2v > 0.985))\n",
    "i = 0\n",
    "# Перебираем пары индексов\n",
    "for x in pair_indexes_w2v:\n",
    "    \n",
    "    # Если индексы не равны друг другу, что означает, что сравнивались описания разных товаров\n",
    "    if x[0] != x[1]:\n",
    "        i += 1\n",
    "        # Выводим пары похожих описаний товаров\n",
    "        print(df['description'][x])\n",
    "print(f'Количество пар похожих товаров - {i}')"
   ],
   "metadata": {
    "execution": {
     "iopub.status.busy": "2023-03-11T13:01:53.119705Z",
     "iopub.execute_input": "2023-03-11T13:01:53.120747Z",
     "iopub.status.idle": "2023-03-11T13:01:53.336539Z",
     "shell.execute_reply.started": "2023-03-11T13:01:53.120681Z",
     "shell.execute_reply": "2023-03-11T13:01:53.335119Z"
    },
    "collapsed": true,
    "jupyter": {
     "outputs_hidden": true
    },
    "trusted": true,
    "ExecuteTime": {
     "end_time": "2023-09-19T02:02:23.794415200Z",
     "start_time": "2023-09-19T02:02:23.751414100Z"
    }
   },
   "execution_count": 18,
   "outputs": [
    {
     "name": "stdout",
     "output_type": "stream",
     "text": [
      "15    borderless short one summertim gift chanc free...\n",
      "14    borderless short go forward other cring border...\n",
      "Name: description, dtype: object\n",
      "27    compound cargo pant reg ultim doeveryth pant b...\n",
      "26    compound cargo pant long ultim doeveryth pant ...\n",
      "Name: description, dtype: object\n",
      "62    fli fish tshirt softwear ringspun organ cotton...\n",
      "57    logo tshirt softwear ringspun organ cotton scr...\n",
      "Name: description, dtype: object\n",
      "63    gpiw classic tshirt softwear ringspun organ co...\n",
      "57    logo tshirt softwear ringspun organ cotton scr...\n",
      "Name: description, dtype: object\n",
      "63    gpiw classic tshirt softwear ringspun organ co...\n",
      "62    fli fish tshirt softwear ringspun organ cotton...\n",
      "Name: description, dtype: object\n",
      "64    live simpli guitar tshirt softwear ringspun or...\n",
      "57    logo tshirt softwear ringspun organ cotton scr...\n",
      "Name: description, dtype: object\n",
      "64    live simpli guitar tshirt softwear ringspun or...\n",
      "62    fli fish tshirt softwear ringspun organ cotton...\n",
      "Name: description, dtype: object\n",
      "64    live simpli guitar tshirt softwear ringspun or...\n",
      "63    gpiw classic tshirt softwear ringspun organ co...\n",
      "Name: description, dtype: object\n",
      "87    merino tshirt bus ride tlachichuca pack bodi m...\n",
      "86    merino crew day pack decis one easi worn alon ...\n",
      "Name: description, dtype: object\n",
      "89    merino tshirt stay calm collect amid frenzi na...\n",
      "88    merino polo feel bohemian look least get foot ...\n",
      "Name: description, dtype: object\n",
      "108    reg fit organ ctn jeansreg organ cotton denim ...\n",
      "107    reg fit organ ctn jeanslong organ cotton denim...\n",
      "Name: description, dtype: object\n",
      "113    riverwalk stud high water slick bedrock cobbl ...\n",
      "112    riverwalk felt high water slick bedrock cobbl ...\n",
      "Name: description, dtype: object\n",
      "118    shop pant short home truck insid shop pant mad...\n",
      "117    shop pant reg home truck insid shop pant made ...\n",
      "Name: description, dtype: object\n",
      "133    sub divid tough water resist great divid sub c...\n",
      "48     great divid stand wave bluewat wind chop there...\n",
      "Name: description, dtype: object\n",
      "153    watermast wader short blackberri barbwir basal...\n",
      "152    watermast wader long blackberri barbwir basalt...\n",
      "Name: description, dtype: object\n",
      "158    alpin guid pant skin climb ice switch rock tra...\n",
      "3      alpin guid pant skin climb ice switch rock tra...\n",
      "Name: description, dtype: object\n",
      "196    jkt made thrive thin technic climb full alpin ...\n",
      "84     jkt made thrive thin technic climb full alpin ...\n",
      "Name: description, dtype: object\n",
      "200    merino tank finespun cool enough lower tempera...\n",
      "199    merino graphic tshirt feel good laugh lightest...\n",
      "Name: description, dtype: object\n",
      "208    nine trail short mountain bike trail run fast ...\n",
      "96     nine trail short view trail sanctuari run mean...\n",
      "Name: description, dtype: object\n",
      "215    simpl guid jkt skinin headlamp summit noon fin...\n",
      "119    simpl guid jkt skinin headlamp summit noon fin...\n",
      "Name: description, dtype: object\n",
      "219    solid betina btm fullest coverag bottom betina...\n",
      "7      print band betina btm fullest coverag bottom b...\n",
      "Name: description, dtype: object\n",
      "231    travers jkt sun set air cold three rug mile li...\n",
      "142    travers jkt train routin number bicycl indian ...\n",
      "Name: description, dtype: object\n",
      "241    print bibiana top athlet bibiana top racerback...\n",
      "221    solid bibiana top athlet bibiana top racerback...\n",
      "Name: description, dtype: object\n",
      "246    seren tight soft stretchi unrestrict mobil mat...\n",
      "214    seren tight long soft stretchi unrestrict mobi...\n",
      "Name: description, dtype: object\n",
      "251    solid boucau halter top boucau soft tie neck b...\n",
      "242    print boucau halter top boucau soft tie neck b...\n",
      "Name: description, dtype: object\n",
      "252    solid kupala top fix triangl bikini top kupala...\n",
      "243    print kupala top fix triangl bikini top kupala...\n",
      "Name: description, dtype: object\n",
      "259    merino crew lightest merino layer silkysoft ye...\n",
      "199    merino graphic tshirt feel good laugh lightest...\n",
      "Name: description, dtype: object\n",
      "259    merino crew lightest merino layer silkysoft ye...\n",
      "200    merino tank finespun cool enough lower tempera...\n",
      "Name: description, dtype: object\n",
      "260    print pari btm style like boy short pari botto...\n",
      "253    solid pari btm boyshortstyl pari bottom fit lo...\n",
      "Name: description, dtype: object\n",
      "261    print suname btm stayput suname fit straight a...\n",
      "254    solid suname btm stayput suname fit straight a...\n",
      "Name: description, dtype: object\n",
      "264    merino tshirt soft worth linger lightest merin...\n",
      "199    merino graphic tshirt feel good laugh lightest...\n",
      "Name: description, dtype: object\n",
      "264    merino tshirt soft worth linger lightest merin...\n",
      "200    merino tank finespun cool enough lower tempera...\n",
      "Name: description, dtype: object\n",
      "264    merino tshirt soft worth linger lightest merin...\n",
      "259    merino crew lightest merino layer silkysoft ye...\n",
      "Name: description, dtype: object\n",
      "274    torrentshel pant theyr lightweight waterproof ...\n",
      "140    torrentshel pant theyr lightweight waterproof ...\n",
      "Name: description, dtype: object\n",
      "280    nine trail jkt nine trail jacket women whose i...\n",
      "95     nine trail jkt somewher bridger ridg run norma...\n",
      "Name: description, dtype: object\n",
      "281    sweater vest imposs confus sweater vest found ...\n",
      "34     sweater vest imposs confus sweater vest found ...\n",
      "Name: description, dtype: object\n",
      "290    print adour btm adour slight scoop lowris fron...\n",
      "218    solid adour btm adour featur scoop lowris fron...\n",
      "Name: description, dtype: object\n",
      "304    intercontinent pant reg youll like flatter dra...\n",
      "187    intercontinent pant long youll like flatter dr...\n",
      "Name: description, dtype: object\n",
      "307    alpin wind jkt high ridg steep ice anyth alpin...\n",
      "4      alpin wind jkt high ridg steep ice anyth alpin...\n",
      "Name: description, dtype: object\n",
      "326    torrentshel jkt tropic rain forest share least...\n",
      "273    torrentshel jkt tropic rain forest share least...\n",
      "Name: description, dtype: object\n",
      "333    live simpli deer tshirt adapt simpli matter su...\n",
      "71     live simpli deer tshirt adapt simpli matter su...\n",
      "Name: description, dtype: object\n",
      "334    live simpli guitar tshirt live life unplug lig...\n",
      "72     live simpli guitar tshirt live life unplug tee...\n",
      "Name: description, dtype: object\n",
      "339    cap graphic tshirt eleg union grace design tec...\n",
      "19     cap graphic tshirt tee made lightestweight cap...\n",
      "Name: description, dtype: object\n",
      "349    shop pant long home truck insid shop pant made...\n",
      "117    shop pant reg home truck insid shop pant made ...\n",
      "Name: description, dtype: object\n",
      "349    shop pant long home truck insid shop pant made...\n",
      "118    shop pant short home truck insid shop pant mad...\n",
      "Name: description, dtype: object\n",
      "350    rain shadow pant light enough afterthought dow...\n",
      "106    rain shadow pant light enough afterthought dow...\n",
      "Name: description, dtype: object\n",
      "352    simpl guid pant stapl rock ice mix climb sprin...\n",
      "216    simpl guid pant trip patagonia one pair pant s...\n",
      "Name: description, dtype: object\n",
      "354    watermast wader king blackberri barbwir basalt...\n",
      "152    watermast wader long blackberri barbwir basalt...\n",
      "Name: description, dtype: object\n",
      "354    watermast wader king blackberri barbwir basalt...\n",
      "153    watermast wader short blackberri barbwir basal...\n",
      "Name: description, dtype: object\n",
      "359    cap tshirt like sweet breez long run hot day c...\n",
      "358    cap cap sleev fastestdri perform baselay fabri...\n",
      "Name: description, dtype: object\n",
      "360    ss rashguard upf fabric shortsleev rashguard k...\n",
      "76     ls rashguard upf fabric longsleev rashguard ke...\n",
      "Name: description, dtype: object\n",
      "363    nine trail vest simplic action vest protect co...\n",
      "209    nine trail vest simplic action vest protect co...\n",
      "Name: description, dtype: object\n",
      "366    watermast wader reg blackberri barbwir basaltt...\n",
      "152    watermast wader long blackberri barbwir basalt...\n",
      "Name: description, dtype: object\n",
      "366    watermast wader reg blackberri barbwir basaltt...\n",
      "153    watermast wader short blackberri barbwir basal...\n",
      "Name: description, dtype: object\n",
      "366    watermast wader reg blackberri barbwir basaltt...\n",
      "354    watermast wader king blackberri barbwir basalt...\n",
      "Name: description, dtype: object\n",
      "369    stand short theyv around plus year reenvis rei...\n",
      "368    stand short theyv around plus year reenvis rei...\n",
      "Name: description, dtype: object\n",
      "377    r fullzip jkt stretch breath wick warm wonder ...\n",
      "262    r fullzip jkt stretch breath wick warm wonder ...\n",
      "Name: description, dtype: object\n",
      "379    lw r jkt high deck warbonnet peak immacul wind...\n",
      "81     lw r jkt high deck warbonnet peak immacul wind...\n",
      "Name: description, dtype: object\n",
      "380    r jkt modern mountain stapl adapt r jacket ser...\n",
      "210    r jkt modern mountain stapl adapt r jacket ser...\n",
      "Name: description, dtype: object\n",
      "381    rain shadow jkt stay insid isnt way stay dri e...\n",
      "211    rain shadow jkt stay insid isnt way stay dri e...\n",
      "Name: description, dtype: object\n",
      "383    lw guid pant backcountri version immens popula...\n",
      "378    lw guid pant backcountri version immens popula...\n",
      "Name: description, dtype: object\n",
      "385    storm light jkt emerg classic inspir origin st...\n",
      "266    storm light jkt emerg classic inspir origin st...\n",
      "Name: description, dtype: object\n",
      "386    stretch ascent jkt simpl stretchi lightweight ...\n",
      "267    stretch ascent jkt simpl stretchi lightweight ...\n",
      "Name: description, dtype: object\n",
      "389    reg fit organ ctn jeansshort organ cotton deni...\n",
      "107    reg fit organ ctn jeanslong organ cotton denim...\n",
      "Name: description, dtype: object\n",
      "389    reg fit organ ctn jeansshort organ cotton deni...\n",
      "108    reg fit organ ctn jeansreg organ cotton denim ...\n",
      "Name: description, dtype: object\n",
      "390    relax fit organ ctn jeanslong everyday goto ra...\n",
      "109    relax fit organ ctn jeansshor everyday goto ra...\n",
      "Name: description, dtype: object\n",
      "391    relax fit organ ctn jeansreg everyday goto rar...\n",
      "109    relax fit organ ctn jeansshor everyday goto ra...\n",
      "Name: description, dtype: object\n",
      "391    relax fit organ ctn jeansreg everyday goto rar...\n",
      "390    relax fit organ ctn jeanslong everyday goto ra...\n",
      "Name: description, dtype: object\n",
      "404    houdini fullzip jkt see dont like sun blusteri...\n",
      "292    houdini fullzip jkt see dont like sun blusteri...\n",
      "Name: description, dtype: object\n",
      "405    merino bottom stopandgo pace like alpin climb ...\n",
      "265    merino bottom thank dri warm forward progress ...\n",
      "Name: description, dtype: object\n",
      "406    merino crew soft longsleev tee work sweat bike...\n",
      "87     merino tshirt bus ride tlachichuca pack bodi m...\n",
      "Name: description, dtype: object\n",
      "406    merino crew soft longsleev tee work sweat bike...\n",
      "89     merino tshirt stay calm collect amid frenzi na...\n",
      "Name: description, dtype: object\n",
      "415    micro puff vest mani alpin shiverfest leav mum...\n",
      "203    micro puff vest mani alpin shiverfest leav mum...\n",
      "Name: description, dtype: object\n",
      "419    riverwalk sticki high water slick bedrock cobb...\n",
      "112    riverwalk felt high water slick bedrock cobbl ...\n",
      "Name: description, dtype: object\n",
      "419    riverwalk sticki high water slick bedrock cobb...\n",
      "113    riverwalk stud high water slick bedrock cobbl ...\n",
      "Name: description, dtype: object\n",
      "420    freewheel max like storag locker wheel cavern ...\n",
      "41     freewheel sturdi wheel bag hold week worth clo...\n",
      "Name: description, dtype: object\n",
      "431    girl live simpli deer tshirt softwear ringspun...\n",
      "57     logo tshirt softwear ringspun organ cotton scr...\n",
      "Name: description, dtype: object\n",
      "431    girl live simpli deer tshirt softwear ringspun...\n",
      "62     fli fish tshirt softwear ringspun organ cotton...\n",
      "Name: description, dtype: object\n",
      "431    girl live simpli deer tshirt softwear ringspun...\n",
      "63     gpiw classic tshirt softwear ringspun organ co...\n",
      "Name: description, dtype: object\n",
      "431    girl live simpli deer tshirt softwear ringspun...\n",
      "64     live simpli guitar tshirt softwear ringspun or...\n",
      "Name: description, dtype: object\n",
      "432    girl live simpli seal tshirt softwear ringspun...\n",
      "57     logo tshirt softwear ringspun organ cotton scr...\n",
      "Name: description, dtype: object\n",
      "432    girl live simpli seal tshirt softwear ringspun...\n",
      "62     fli fish tshirt softwear ringspun organ cotton...\n",
      "Name: description, dtype: object\n",
      "432    girl live simpli seal tshirt softwear ringspun...\n",
      "63     gpiw classic tshirt softwear ringspun organ co...\n",
      "Name: description, dtype: object\n",
      "432    girl live simpli seal tshirt softwear ringspun...\n",
      "64     live simpli guitar tshirt softwear ringspun or...\n",
      "Name: description, dtype: object\n",
      "432    girl live simpli seal tshirt softwear ringspun...\n",
      "431    girl live simpli deer tshirt softwear ringspun...\n",
      "Name: description, dtype: object\n",
      "437    guid jkt sharp granit sticki vergla untrack li...\n",
      "183    guid jkt sharp granit sticki vergla untrack li...\n",
      "Name: description, dtype: object\n",
      "442    cap crew fundament funhog lifestyl crew noncha...\n",
      "440    cap crew capilen versatil fastestwick perform ...\n",
      "Name: description, dtype: object\n",
      "443    guidewat pant drift boat flat skiff spring cre...\n",
      "51     guidewat short everyth love guidewat pant less...\n",
      "Name: description, dtype: object\n",
      "451    compound cargo pant short ultim doeveryth pant...\n",
      "26     compound cargo pant long ultim doeveryth pant ...\n",
      "Name: description, dtype: object\n",
      "451    compound cargo pant short ultim doeveryth pant...\n",
      "27     compound cargo pant reg ultim doeveryth pant b...\n",
      "Name: description, dtype: object\n",
      "457    nano puff po alreadi cult classic ambassador t...\n",
      "279    nano puff po versatil piec insul make nano puf...\n",
      "Name: description, dtype: object\n",
      "461    custodian pant reg graveyard shift advantag qu...\n",
      "31     custodian pant long graveyard shift advantag q...\n",
      "Name: description, dtype: object\n",
      "462    custodian pant short graveyard shift advantag ...\n",
      "31     custodian pant long graveyard shift advantag q...\n",
      "Name: description, dtype: object\n",
      "462    custodian pant short graveyard shift advantag ...\n",
      "461    custodian pant reg graveyard shift advantag qu...\n",
      "Name: description, dtype: object\n",
      "467    guidewat wader reg built guidewat wader toughe...\n",
      "454    guidewat wader king built guidewat wader tough...\n",
      "Name: description, dtype: object\n",
      "472    sweater there much see feet chasm view bivi ve...\n",
      "178    sweater there much see feet chasm view bivi ve...\n",
      "Name: description, dtype: object\n",
      "480    duck pant reg essenti wear split log drive nai...\n",
      "36     duck pant long essenti wear split log drive na...\n",
      "Name: description, dtype: object\n",
      "481    duck pant short essenti wear split log drive n...\n",
      "36     duck pant long essenti wear split log drive na...\n",
      "Name: description, dtype: object\n",
      "481    duck pant short essenti wear split log drive n...\n",
      "480    duck pant reg essenti wear split log drive nai...\n",
      "Name: description, dtype: object\n",
      "485    half mass size ride bike fine tune hold day wo...\n",
      "455    critic mass built twowheel commut critic mass ...\n",
      "Name: description, dtype: object\n",
      "491    freedom roam tshirt global warm habitat destru...\n",
      "285    freedom roam tshirt global warm habitat destru...\n",
      "Name: description, dtype: object\n",
      "Количество пар похожих товаров - 101\n"
     ]
    }
   ]
  },
  {
   "cell_type": "code",
   "source": [
    "pair_indexes_w2v = np.transpose(np.nonzero(cos_matrix_w2v > 0.99))\n",
    "description_pairs_w2v = pd.DataFrame()\n",
    "\n",
    "i = 0\n",
    "\n",
    "# Перебираем пары индексов\n",
    "for x in pair_indexes_w2v:\n",
    "\n",
    "    # Если индексы не равны друг другу, что означает, что сравнивались описания разных товаров\n",
    "    if x[0] != x[1]:\n",
    "\n",
    "        # Выводим пары описаний товаров\n",
    "        pairs = pd.DataFrame({'index_pairs':[(x[0], x[1])], 'description_pairs':[(df['description'][x[0]], df['description'][x[1]])], 'cosine_similarity_score':[cos_matrix[x[0], x[1]]]})\n",
    "        description_pairs_w2v = pd.concat([description_pairs_w2v, pairs], ignore_index=True)\n",
    "        i += 1\n",
    "print(f'Количество пар похожих товаров - {i}')\n",
    "description_pairs_w2v"
   ],
   "metadata": {
    "ExecuteTime": {
     "end_time": "2023-09-19T02:02:23.851414600Z",
     "start_time": "2023-09-19T02:02:23.797414200Z"
    }
   },
   "execution_count": 19,
   "outputs": [
    {
     "name": "stdout",
     "output_type": "stream",
     "text": [
      "Количество пар похожих товаров - 83\n"
     ]
    },
    {
     "data": {
      "text/plain": "   index_pairs                                  description_pairs  \\\n0     (27, 26)  (compound cargo pant reg ultim doeveryth pant ...   \n1     (62, 57)  (fli fish tshirt softwear ringspun organ cotto...   \n2     (63, 57)  (gpiw classic tshirt softwear ringspun organ c...   \n3     (63, 62)  (gpiw classic tshirt softwear ringspun organ c...   \n4     (64, 62)  (live simpli guitar tshirt softwear ringspun o...   \n..         ...                                                ...   \n78   (480, 36)  (duck pant reg essenti wear split log drive na...   \n79   (481, 36)  (duck pant short essenti wear split log drive ...   \n80  (481, 480)  (duck pant short essenti wear split log drive ...   \n81  (485, 455)  (half mass size ride bike fine tune hold day w...   \n82  (491, 285)  (freedom roam tshirt global warm habitat destr...   \n\n    cosine_similarity_score  \n0                  0.990242  \n1                  0.929723  \n2                  0.882237  \n3                  0.862975  \n4                  0.846352  \n..                      ...  \n78                 0.985911  \n79                 1.000000  \n80                 0.985911  \n81                 0.811473  \n82                 1.000000  \n\n[83 rows x 3 columns]",
      "text/html": "<div>\n<style scoped>\n    .dataframe tbody tr th:only-of-type {\n        vertical-align: middle;\n    }\n\n    .dataframe tbody tr th {\n        vertical-align: top;\n    }\n\n    .dataframe thead th {\n        text-align: right;\n    }\n</style>\n<table border=\"1\" class=\"dataframe\">\n  <thead>\n    <tr style=\"text-align: right;\">\n      <th></th>\n      <th>index_pairs</th>\n      <th>description_pairs</th>\n      <th>cosine_similarity_score</th>\n    </tr>\n  </thead>\n  <tbody>\n    <tr>\n      <th>0</th>\n      <td>(27, 26)</td>\n      <td>(compound cargo pant reg ultim doeveryth pant ...</td>\n      <td>0.990242</td>\n    </tr>\n    <tr>\n      <th>1</th>\n      <td>(62, 57)</td>\n      <td>(fli fish tshirt softwear ringspun organ cotto...</td>\n      <td>0.929723</td>\n    </tr>\n    <tr>\n      <th>2</th>\n      <td>(63, 57)</td>\n      <td>(gpiw classic tshirt softwear ringspun organ c...</td>\n      <td>0.882237</td>\n    </tr>\n    <tr>\n      <th>3</th>\n      <td>(63, 62)</td>\n      <td>(gpiw classic tshirt softwear ringspun organ c...</td>\n      <td>0.862975</td>\n    </tr>\n    <tr>\n      <th>4</th>\n      <td>(64, 62)</td>\n      <td>(live simpli guitar tshirt softwear ringspun o...</td>\n      <td>0.846352</td>\n    </tr>\n    <tr>\n      <th>...</th>\n      <td>...</td>\n      <td>...</td>\n      <td>...</td>\n    </tr>\n    <tr>\n      <th>78</th>\n      <td>(480, 36)</td>\n      <td>(duck pant reg essenti wear split log drive na...</td>\n      <td>0.985911</td>\n    </tr>\n    <tr>\n      <th>79</th>\n      <td>(481, 36)</td>\n      <td>(duck pant short essenti wear split log drive ...</td>\n      <td>1.000000</td>\n    </tr>\n    <tr>\n      <th>80</th>\n      <td>(481, 480)</td>\n      <td>(duck pant short essenti wear split log drive ...</td>\n      <td>0.985911</td>\n    </tr>\n    <tr>\n      <th>81</th>\n      <td>(485, 455)</td>\n      <td>(half mass size ride bike fine tune hold day w...</td>\n      <td>0.811473</td>\n    </tr>\n    <tr>\n      <th>82</th>\n      <td>(491, 285)</td>\n      <td>(freedom roam tshirt global warm habitat destr...</td>\n      <td>1.000000</td>\n    </tr>\n  </tbody>\n</table>\n<p>83 rows × 3 columns</p>\n</div>"
     },
     "execution_count": 19,
     "metadata": {},
     "output_type": "execute_result"
    }
   ]
  },
  {
   "cell_type": "code",
   "execution_count": 20,
   "outputs": [],
   "source": [
    "description_pairs_w2v.to_csv('similar_products_w2v.csv', index=False)"
   ],
   "metadata": {
    "collapsed": false,
    "ExecuteTime": {
     "end_time": "2023-09-19T02:02:23.875414800Z",
     "start_time": "2023-09-19T02:02:23.841415200Z"
    }
   }
  },
  {
   "cell_type": "code",
   "execution_count": 20,
   "outputs": [],
   "source": [],
   "metadata": {
    "collapsed": false,
    "ExecuteTime": {
     "end_time": "2023-09-19T02:02:23.914414700Z",
     "start_time": "2023-09-19T02:02:23.858414600Z"
    }
   }
  },
  {
   "cell_type": "code",
   "execution_count": 20,
   "outputs": [],
   "source": [],
   "metadata": {
    "collapsed": false,
    "ExecuteTime": {
     "end_time": "2023-09-19T02:02:23.934414200Z",
     "start_time": "2023-09-19T02:02:23.873414700Z"
    }
   }
  },
  {
   "cell_type": "markdown",
   "source": [
    "# Метод TF-IDF преобразует тексты в векторы более разреженные, а метод Word2Vec - в более плотные. Расстояние между векторами, полученными методом TF-IDF, отражает словарное сходство текстов, тогда как расстояние между векторами, полученными методом Word2Vec, отражает семантическое сходство текстов. \n",
    "# Мы видим, чтобы получить примерно одинаковые пары схожих товаров, порог значимости, используемый с Word2Vec, берется намного выше, чем используемый с TF-IDF."
   ],
   "metadata": {
    "collapsed": false
   }
  },
  {
   "cell_type": "code",
   "execution_count": 20,
   "outputs": [],
   "source": [],
   "metadata": {
    "collapsed": false,
    "ExecuteTime": {
     "end_time": "2023-09-19T02:02:23.961416300Z",
     "start_time": "2023-09-19T02:02:23.889414200Z"
    }
   }
  }
 ]
}
